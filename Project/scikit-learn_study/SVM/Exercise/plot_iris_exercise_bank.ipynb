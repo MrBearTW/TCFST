{
 "cells": [
  {
   "cell_type": "code",
   "execution_count": 2,
   "metadata": {
    "collapsed": true
   },
   "outputs": [],
   "source": [
    "%matplotlib inline"
   ]
  },
  {
   "cell_type": "markdown",
   "metadata": {},
   "source": [
    "\n",
    "# SVM Exercise\n",
    "\n",
    "\n",
    "A tutorial exercise for using different SVM kernels.\n",
    "\n",
    "This exercise is used in the `using_kernels_tut` part of the\n",
    "`supervised_learning_tut` section of the `stat_learn_tut_index`.\n",
    "\n"
   ]
  },
  {
   "cell_type": "code",
   "execution_count": 3,
   "metadata": {},
   "outputs": [
    {
     "name": "stdout",
     "output_type": "stream",
     "text": [
      "Automatically created module for IPython interactive environment\n"
     ]
    }
   ],
   "source": [
    "print(__doc__)\n",
    "\n",
    "\n",
    "import numpy as np\n",
    "import matplotlib.pyplot as plt\n",
    "from sklearn import datasets, svm\n",
    "import pandas as pd\n",
    "\n",
    "#iris = datasets.load_iris()\n",
    "df = pd.read_csv('20171113_200.csv',index_col=0)\n",
    "#print(df)\n",
    "#print(df.iloc[:,0:3]) \n",
    "#print(df.iloc[:,21:22]) \n",
    "\n",
    "#X = iris.data\n",
    "X = df.iloc[:,0:2]\n",
    "#print(X)\n",
    "X = np.array(X)\n",
    "#print(X)\n",
    "#X = X.tolist()\n",
    "#print(type(X))\n",
    "#X = np.reshape(X,len(X))\n",
    "#print(X)\n",
    "\n",
    "#y = iris.target\n",
    "y = df.iloc[:,21:22]    # ind_tjcr_fin_ult1 信用卡\n",
    "y = np.array(y)\n",
    "#print(y)\n",
    "y=np.reshape(y,len(y))\n",
    "#print(y)\n",
    "#print(np.reshape(y,len(y)))\n",
    "\n",
    "#print(type(y))"
   ]
  },
  {
   "cell_type": "code",
   "execution_count": 4,
   "metadata": {},
   "outputs": [
    {
     "name": "stdout",
     "output_type": "stream",
     "text": [
      "48\n"
     ]
    }
   ],
   "source": [
    "X = X[y != 0, :2]\n",
    "#print(X)\n",
    "#y = y[y != 0]\n",
    "#print(y)\n",
    "\n",
    "n_sample = len(X)\n",
    "print(n_sample)    # 48\n"
   ]
  },
  {
   "cell_type": "code",
   "execution_count": 5,
   "metadata": {
    "collapsed": true
   },
   "outputs": [],
   "source": [
    "np.random.seed(0)\n",
    "order = np.random.permutation(n_sample)\n",
    "#print(order)\n",
    "X = X[order]\n",
    "#print(X)\n",
    "y = y[order].astype(np.float)\n",
    "#print(y)"
   ]
  },
  {
   "cell_type": "code",
   "execution_count": null,
   "metadata": {},
   "outputs": [
    {
     "name": "stdout",
     "output_type": "stream",
     "text": [
      "[[  62.  171.]\n",
      " [  46.  171.]\n",
      " [  51.  171.]\n",
      " [  46.  171.]\n",
      " [  43.  144.]\n",
      " [  51.  171.]\n",
      " [  47.  171.]\n",
      " [  62.  171.]\n",
      " [  50.  119.]\n",
      " [  41.  171.]\n",
      " [  44.  171.]\n",
      " [  42.  171.]\n",
      " [  73.  171.]\n",
      " [  46.  171.]\n",
      " [  53.   26.]\n",
      " [  56.  171.]\n",
      " [  45.  129.]\n",
      " [  72.  171.]\n",
      " [  43.  171.]\n",
      " [  52.  171.]\n",
      " [  55.  171.]\n",
      " [  50.  171.]\n",
      " [  31.   42.]\n",
      " [  55.  171.]\n",
      " [  41.  171.]\n",
      " [  60.  171.]\n",
      " [  40.  131.]\n",
      " [  53.  171.]\n",
      " [  53.  170.]\n",
      " [  43.  171.]\n",
      " [  41.  171.]\n",
      " [  55.  171.]\n",
      " [  42.  171.]\n",
      " [  54.  168.]\n",
      " [  77.  171.]\n",
      " [  44.   18.]\n",
      " [  40.  171.]\n",
      " [  43.  171.]\n",
      " [  45.  171.]\n",
      " [  40.  162.]\n",
      " [  42.  171.]\n",
      " [  78.  171.]\n",
      " [  45.  171.]]\n",
      "[ 1.  1.  0.  1.  0.  0.  0.  1.  1.  0.  0.  1.  0.  0.  0.  0.  0.  0.\n",
      "  0.  0.  0.  1.  1.  0.  1.  1.  0.  0.  0.  0.  0.  0.  0.  0.  0.  1.\n",
      "  0.  1.  0.  0.  0.  0.  0.]\n",
      "[ 0.  0.  1.  1.  0.]\n"
     ]
    }
   ],
   "source": [
    "X_train = X[:int(.9 * n_sample)]\n",
    "X_train = X_train.astype(float)\n",
    "X_train=X_train.reshape(X_train.shape)\n",
    "print(X_train)\n",
    "y_train = y[:int(.9 * n_sample)]\n",
    "print(y_train)\n",
    "X_test = X[int(.9 * n_sample):]\n",
    "#print(X_test)\n",
    "y_test = y[int(.9 * n_sample):]\n",
    "print(y_test)\n"
   ]
  },
  {
   "cell_type": "code",
   "execution_count": null,
   "metadata": {},
   "outputs": [],
   "source": [
    "# fit the model\n",
    "for fig_num, kernel in enumerate(('linear', 'rbf', 'poly')):\n",
    "    clf = svm.SVC(kernel=kernel, gamma=10)\n",
    "    clf.fit(X_train, y_train)\n",
    "\n",
    "    plt.figure(fig_num)\n",
    "    plt.clf()\n",
    "    plt.scatter(X[:, 0], X[:, 1], c=y, zorder=10, cmap=plt.cm.Paired,\n",
    "                edgecolor='k', s=20)\n",
    "\n",
    "    # Circle out the test data\n",
    "    plt.scatter(X_test[:, 0], X_test[:, 1], s=80, facecolors='none',\n",
    "                zorder=10, edgecolor='k')\n",
    "\n",
    "    plt.axis('tight')\n",
    "    x_min = X[:, 0].min()\n",
    "    x_max = X[:, 0].max()\n",
    "    y_min = X[:, 1].min()\n",
    "    y_max = X[:, 1].max()\n",
    "\n",
    "    XX, YY = np.mgrid[x_min:x_max:200j, y_min:y_max:200j]\n",
    "    Z = clf.decision_function(np.c_[XX.ravel(), YY.ravel()])\n",
    "\n",
    "    # Put the result into a color plot\n",
    "    Z = Z.reshape(XX.shape)\n",
    "    plt.pcolormesh(XX, YY, Z > 0, cmap=plt.cm.Paired)\n",
    "    plt.contour(XX, YY, Z, colors=['k', 'k', 'k'],\n",
    "                linestyles=['--', '-', '--'], levels=[-.5, 0, .5])\n",
    "\n",
    "    plt.title(kernel)\n",
    "plt.show()"
   ]
  },
  {
   "cell_type": "code",
   "execution_count": null,
   "metadata": {
    "collapsed": true
   },
   "outputs": [],
   "source": []
  },
  {
   "cell_type": "code",
   "execution_count": null,
   "metadata": {
    "collapsed": true
   },
   "outputs": [],
   "source": []
  }
 ],
 "metadata": {
  "kernelspec": {
   "display_name": "Python 3",
   "language": "python",
   "name": "python3"
  },
  "language_info": {
   "codemirror_mode": {
    "name": "ipython",
    "version": 3
   },
   "file_extension": ".py",
   "mimetype": "text/x-python",
   "name": "python",
   "nbconvert_exporter": "python",
   "pygments_lexer": "ipython3",
   "version": "3.6.2"
  }
 },
 "nbformat": 4,
 "nbformat_minor": 1
}
