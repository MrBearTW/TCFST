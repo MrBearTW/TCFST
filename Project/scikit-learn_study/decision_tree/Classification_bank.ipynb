{
 "cells": [
  {
   "cell_type": "code",
   "execution_count": 1,
   "metadata": {},
   "outputs": [
    {
     "name": "stdout",
     "output_type": "stream",
     "text": [
      "[[3 2 2]\n",
      " [4 2 3]\n",
      " [3 2 2]\n",
      " ..., \n",
      " [5 1 3]\n",
      " [4 3 2]\n",
      " [3 3 3]]\n"
     ]
    }
   ],
   "source": [
    "# conda install graphviz\n",
    "\n",
    "from sklearn import tree\n",
    "from sklearn.datasets import load_iris\n",
    "from sklearn import tree\n",
    "import pandas as pd\n",
    "import numpy as np\n",
    "from sklearn.model_selection import train_test_split\n",
    "\n",
    "#iris = load_iris()\n",
    "\n",
    "###################################################\n",
    "#iris = datasets.load_iris()\n",
    "df = pd.read_csv('cluster_1110_2_20171113_addC.csv',index_col=0)\n",
    "#print(df)\n",
    "#print(df.iloc[:,0:3]) \n",
    "#print(df.iloc[:,21:22]) \n",
    "\n",
    "#X = iris.data\n",
    "X = df.iloc[:,15:18]\n",
    "#print(X)\n",
    "#print(type(X))\n",
    "X = np.array(X)\n",
    "#print(X)\n",
    "#X = X.tolist()\n",
    "#print(type(X))\n",
    "#X = np.reshape(X,len(X))\n",
    "#print(X)\n",
    "\n",
    "#y = iris.target\n",
    "# ind_tjcr_fin_ult1 7:8信用卡       # TAX 6:7\n",
    "#y = df.iloc[:,9:10]    # particular\n",
    "y = df.iloc[:,14:15]     # 分群  14:15\n",
    "\n",
    "### cluster_1110_2_20171113_addC.csv紀錄\n",
    "### Funds\tTaxes\tCredit_Card\tSecurities\tparticular\tSaving\tLoans\tPayroll\n",
    "### 11799\t39155\t29918\t    17494\t    106130\t   25366\t83427\t62375\n",
    "\n",
    "y = np.array(y)\n",
    "#print(y)\n",
    "y=np.reshape(y,len(y))\n",
    "#print(y)\n",
    "#print(np.reshape(y,len(y)))\n",
    "\n",
    "#print(type(y))\n",
    "\n",
    "#iris.data = X\n",
    "#iris.target = y\n",
    "####################################################\n",
    "#X_train, X_test, y_train, y_test = train_test_split(X, y, test_size=0.3, random_state=0)\n",
    "\n",
    "print(X)\n",
    "#print(y)\n"
   ]
  },
  {
   "cell_type": "code",
   "execution_count": 17,
   "metadata": {},
   "outputs": [
    {
     "data": {
      "text/plain": [
       "'\\nfrom sklearn import datasets\\niris=datasets.load_iris()\\nX,y=iris.data,iris.target\\n#print(X,y)\\nprint(X)\\n#print(X[0:1])\\nprint(type(X[0:1]))\\n'"
      ]
     },
     "execution_count": 17,
     "metadata": {},
     "output_type": "execute_result"
    }
   ],
   "source": [
    "'''\n",
    "from sklearn import datasets\n",
    "iris=datasets.load_iris()\n",
    "X,y=iris.data,iris.target\n",
    "#print(X,y)\n",
    "#print(X)\n",
    "#print(X[0:1])\n",
    "print(type(X[0:1]))\n",
    "'''"
   ]
  },
  {
   "cell_type": "code",
   "execution_count": 25,
   "metadata": {
    "scrolled": true
   },
   "outputs": [
    {
     "name": "stdout",
     "output_type": "stream",
     "text": [
      "[[3 2 2]]\n",
      "[1]\n"
     ]
    }
   ],
   "source": [
    "\n",
    "clf = tree.DecisionTreeClassifier(max_depth=6,criterion='entropy')    # ,criterion='entropy'  default是 gini\n",
    "#clf = clf.fit(iris.data, iris.target)\n",
    "clf = clf.fit(X,y)\n",
    "#print(clf)\n",
    "#print(clf.score(X,y))\n",
    "\n",
    "\n",
    "\n",
    "#############################################\n",
    "import pickle #pickle模块\n",
    "\n",
    "#保存Model(注:save文件夹要预先建立，否则会报错)\n",
    "with open('save/clf1.pickle', 'wb') as f:\n",
    "    pickle.dump(clf, f)\n",
    "\n",
    "#读取Model\n",
    "#with open('save/clf.pickle', 'rb') as f:\n",
    "    #clf2 = pickle.load(f)\n",
    "    #测试读取后的Model\n",
    "    #print(clf2.predict(X[0:1]))\n",
    "############################################\n",
    "\n",
    "# [0]\n",
    "\n",
    "\n",
    "from sklearn.externals import joblib #jbolib模块\n",
    "\n",
    "#保存Model(注:save文件夹要预先建立，否则会报错)\n",
    "joblib.dump(clf, 'save/clf2.pkl')\n",
    "\n",
    "#读取Model\n",
    "clf3 = joblib.load('save/clf2.pkl')\n",
    "\n",
    "#测试读取后的Model\n",
    "print(X[0:1])\n",
    "print(clf3.predict(X[0:1]))\n",
    "\n",
    "# [0]\n",
    "\n",
    "#############################################\n",
    "\n",
    "\n",
    "\n",
    "\n",
    "#tree.export_graphviz(clf,out_file='tree.dot')     \n",
    "\n",
    "\n",
    "import graphviz \n",
    "dot_data = tree.export_graphviz(clf, out_file=None) \n",
    "graph = graphviz.Source(dot_data) \n",
    "#graph.render(\"bank.pdf\") \n",
    "#tree.export_graphviz(clf,out_file='bank2.dot') \n",
    "dot_data = tree.export_graphviz(clf, out_file=None, \n",
    "                         feature_names=['age','Seniority','Income'],  \n",
    "                         class_names=['G1','G2','G3'],\n",
    "                         #class_names=['DontHave','Have'],\n",
    "                         filled=True, rounded=True,  \n",
    "                         special_characters=True\n",
    "                               )  \n",
    "#graph = graphviz.Source(dot_data)  \n",
    "#graph\n",
    "#graph.render(\"20171115_particular_6\")\n"
   ]
  },
  {
   "cell_type": "code",
   "execution_count": 3,
   "metadata": {},
   "outputs": [
    {
     "ename": "NameError",
     "evalue": "name 'iris' is not defined",
     "output_type": "error",
     "traceback": [
      "\u001b[1;31m---------------------------------------------------------------------------\u001b[0m",
      "\u001b[1;31mNameError\u001b[0m                                 Traceback (most recent call last)",
      "\u001b[1;32m<ipython-input-3-a6577c0b4676>\u001b[0m in \u001b[0;36m<module>\u001b[1;34m()\u001b[0m\n\u001b[1;32m----> 1\u001b[1;33m \u001b[0mclf\u001b[0m\u001b[1;33m.\u001b[0m\u001b[0mpredict\u001b[0m\u001b[1;33m(\u001b[0m\u001b[0miris\u001b[0m\u001b[1;33m.\u001b[0m\u001b[0mdata\u001b[0m\u001b[1;33m[\u001b[0m\u001b[1;33m:\u001b[0m\u001b[1;36m1\u001b[0m\u001b[1;33m,\u001b[0m \u001b[1;33m:\u001b[0m\u001b[1;33m]\u001b[0m\u001b[1;33m)\u001b[0m\u001b[1;33m\u001b[0m\u001b[0m\n\u001b[0m\u001b[0;32m      2\u001b[0m \u001b[0mclf\u001b[0m\u001b[1;33m.\u001b[0m\u001b[0mpredict_proba\u001b[0m\u001b[1;33m(\u001b[0m\u001b[0miris\u001b[0m\u001b[1;33m.\u001b[0m\u001b[0mdata\u001b[0m\u001b[1;33m[\u001b[0m\u001b[1;33m:\u001b[0m\u001b[1;36m1\u001b[0m\u001b[1;33m,\u001b[0m \u001b[1;33m:\u001b[0m\u001b[1;33m]\u001b[0m\u001b[1;33m)\u001b[0m\u001b[1;33m\u001b[0m\u001b[0m\n",
      "\u001b[1;31mNameError\u001b[0m: name 'iris' is not defined"
     ]
    }
   ],
   "source": [
    "#clf.predict(iris.data[:1, :])\n",
    "#clf.predict_proba(iris.data[:1, :])\n"
   ]
  },
  {
   "cell_type": "code",
   "execution_count": null,
   "metadata": {
    "collapsed": true
   },
   "outputs": [],
   "source": []
  }
 ],
 "metadata": {
  "kernelspec": {
   "display_name": "Python 3",
   "language": "python",
   "name": "python3"
  },
  "language_info": {
   "codemirror_mode": {
    "name": "ipython",
    "version": 3
   },
   "file_extension": ".py",
   "mimetype": "text/x-python",
   "name": "python",
   "nbconvert_exporter": "python",
   "pygments_lexer": "ipython3",
   "version": "3.6.1"
  }
 },
 "nbformat": 4,
 "nbformat_minor": 2
}
