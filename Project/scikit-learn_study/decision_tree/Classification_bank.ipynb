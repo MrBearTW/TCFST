{
 "cells": [
  {
   "cell_type": "code",
   "execution_count": 13,
   "metadata": {
    "scrolled": true
   },
   "outputs": [
    {
     "data": {
      "text/plain": [
       "'bank.pdf.pdf'"
      ]
     },
     "execution_count": 13,
     "metadata": {},
     "output_type": "execute_result"
    }
   ],
   "source": [
    "# conda install graphviz\n",
    "\n",
    "from sklearn import tree\n",
    "from sklearn.datasets import load_iris\n",
    "from sklearn import tree\n",
    "import pandas as pd\n",
    "import numpy as np\n",
    "from sklearn.model_selection import train_test_split\n",
    "\n",
    "#iris = load_iris()\n",
    "\n",
    "###################################################\n",
    "#iris = datasets.load_iris()\n",
    "df = pd.read_csv('20171113_2000.csv',index_col=0)\n",
    "#print(df)\n",
    "#print(df.iloc[:,0:3]) \n",
    "#print(df.iloc[:,21:22]) \n",
    "\n",
    "#X = iris.data\n",
    "X = df.iloc[:,0:3]\n",
    "#print(X)\n",
    "X = np.array(X)\n",
    "#print(X)\n",
    "#X = X.tolist()\n",
    "#print(type(X))\n",
    "#X = np.reshape(X,len(X))\n",
    "#print(X)\n",
    "\n",
    "#y = iris.target\n",
    "y = df.iloc[:,21:22]    # ind_tjcr_fin_ult1 信用卡\n",
    "y = np.array(y)\n",
    "#print(y)\n",
    "y=np.reshape(y,len(y))\n",
    "#print(y)\n",
    "#print(np.reshape(y,len(y)))\n",
    "\n",
    "#print(type(y))\n",
    "\n",
    "#iris.data = X\n",
    "#iris.target = y\n",
    "####################################################\n",
    "#X_train, X_test, y_train, y_test = train_test_split(X, y, test_size=0.3, random_state=0)\n",
    "\n",
    "#print(y)\n",
    "\n",
    "clf = tree.DecisionTreeClassifier(max_depth=5)\n",
    "#clf = clf.fit(iris.data, iris.target)\n",
    "clf = clf.fit(X,y)\n",
    "#print(clf)\n",
    "\n",
    "tree.export_graphviz(clf,out_file='tree.dot')     \n",
    "\n",
    "\n",
    "import graphviz \n",
    "dot_data = tree.export_graphviz(clf, out_file=None) \n",
    "graph = graphviz.Source(dot_data) \n",
    "#graph.render(\"bank.pdf\") \n",
    "#tree.export_graphviz(clf,out_file='bank2.dot') \n",
    "dot_data = tree.export_graphviz(clf, out_file=None, \n",
    "                         feature_names=['age','antiguedad','renta_log'],  \n",
    "                         class_names=['Dont Have','HAVE'],  \n",
    "                         filled=True, rounded=True,  \n",
    "                         special_characters=True)  \n",
    "graph = graphviz.Source(dot_data)  \n",
    "graph\n",
    "graph.render(\"bank.pdf\")\n"
   ]
  },
  {
   "cell_type": "code",
   "execution_count": 3,
   "metadata": {},
   "outputs": [
    {
     "data": {
      "text/plain": [
       "array([[ 1.,  0.,  0.]])"
      ]
     },
     "execution_count": 3,
     "metadata": {},
     "output_type": "execute_result"
    }
   ],
   "source": [
    "clf.predict(iris.data[:1, :])\n",
    "clf.predict_proba(iris.data[:1, :])\n"
   ]
  },
  {
   "cell_type": "code",
   "execution_count": null,
   "metadata": {
    "collapsed": true
   },
   "outputs": [],
   "source": []
  }
 ],
 "metadata": {
  "kernelspec": {
   "display_name": "Python 3",
   "language": "python",
   "name": "python3"
  },
  "language_info": {
   "codemirror_mode": {
    "name": "ipython",
    "version": 3
   },
   "file_extension": ".py",
   "mimetype": "text/x-python",
   "name": "python",
   "nbconvert_exporter": "python",
   "pygments_lexer": "ipython3",
   "version": "3.6.2"
  }
 },
 "nbformat": 4,
 "nbformat_minor": 2
}
