{
 "cells": [
  {
   "cell_type": "code",
   "execution_count": 1,
   "metadata": {},
   "outputs": [
    {
     "name": "stdout",
     "output_type": "stream",
     "text": [
      "<class 'pandas.core.frame.DataFrame'>\n",
      "RangeIndex: 1052 entries, 0 to 1051\n",
      "Data columns (total 12 columns):\n",
      "born_in           1052 non-null object\n",
      "category          1052 non-null object\n",
      "country           1052 non-null object\n",
      "date_of_birth     1044 non-null object\n",
      "date_of_death     1044 non-null object\n",
      "gender            1040 non-null object\n",
      "link              1052 non-null object\n",
      "name              1052 non-null object\n",
      "place_of_birth    1044 non-null object\n",
      "place_of_death    1044 non-null object\n",
      "text              1052 non-null object\n",
      "year              1052 non-null int64\n",
      "dtypes: int64(1), object(11)\n",
      "memory usage: 98.7+ KB\n"
     ]
    }
   ],
   "source": [
    "import pandas as pd\n",
    "df = pd.read_json('nobel_winners.json')\n",
    "df.info()"
   ]
  },
  {
   "cell_type": "code",
   "execution_count": null,
   "metadata": {
    "collapsed": true
   },
   "outputs": [],
   "source": []
  }
 ],
 "metadata": {
  "kernelspec": {
   "display_name": "Python 3",
   "language": "python",
   "name": "python3"
  },
  "language_info": {
   "codemirror_mode": {
    "name": "ipython",
    "version": 3
   },
   "file_extension": ".py",
   "mimetype": "text/x-python",
   "name": "python",
   "nbconvert_exporter": "python",
   "pygments_lexer": "ipython3",
   "version": "3.6.1"
  }
 },
 "nbformat": 4,
 "nbformat_minor": 2
}
