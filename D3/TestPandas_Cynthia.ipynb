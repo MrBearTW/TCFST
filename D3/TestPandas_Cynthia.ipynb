{
 "cells": [
  {
   "cell_type": "code",
   "execution_count": 23,
   "metadata": {},
   "outputs": [
    {
     "data": {
      "text/plain": [
       "0                                        César Milstein\n",
       "1                                            Ivo Andric\n",
       "2                                       Vladimir Prelog\n",
       "3                       Institut de Droit International\n",
       "4                                     Auguste Beernaert\n",
       "5                                   Maurice Maeterlinck\n",
       "6                                     Henri La Fontaine\n",
       "7                                          Jules Bordet\n",
       "8                                     Corneille Heymans\n",
       "9                                          Georges Pire\n",
       "10                                        Albert Claude\n",
       "11                                    Christian de Duve\n",
       "12                                       Ilya Prigogine\n",
       "13                                     François Englert\n",
       "14                                        Simon Kuznets\n",
       "15                                       Menachem Begin\n",
       "16                                         Shimon Peres\n",
       "17                                Karl Adolph Gjellerup\n",
       "18                                         August Krogh\n",
       "19                                           Niels Bohr\n",
       "20                        Johannes Andreas Grib Fibiger\n",
       "21                                           Henrik Dam\n",
       "22                              Johannes Vilhelm Jensen\n",
       "23                                    Ben Roy Mottelson\n",
       "24                                            Aage Bohr\n",
       "25                                      Niels Kaj Jerne\n",
       "26                                  Jens Christian Skou\n",
       "27                                   Bertha von Suttner\n",
       "28                                           Gerty Cori\n",
       "29                                  Carl Ferdinand Cori\n",
       "                             ...                       \n",
       "1022                                Victor Francis Hess\n",
       "1023                                         Otto Loewi\n",
       "1024                                       Richard Kuhn\n",
       "1025                                     Wolfgang Pauli\n",
       "1026                                      Max F. Perutz\n",
       "1027                                    Karl von Frisch\n",
       "1028                                      Konrad Lorenz\n",
       "1029                                    Friedrich Hayek\n",
       "1030                                        Walter Kohn\n",
       "1031                                     Eric R. Kandel\n",
       "1032                                   Elfriede Jelinek\n",
       "1033                 International Atomic Energy Agency\n",
       "1034                                     Martin Karplus\n",
       "1035                             William Lawrence Bragg\n",
       "1036                                  Sir Howard Florey\n",
       "1037                        Sir Frank Macfarlane Burnet\n",
       "1038                                  John Carew Eccles\n",
       "1039                             Aleksandr M. Prokhorov\n",
       "1040                                      Patrick White\n",
       "1041                              John Warcup Cornforth\n",
       "1042                                      John Harsanyi\n",
       "1043    Peter C. Doherty  & Professor  Rolf Zinkernagel\n",
       "1044                                    J. Robin Warren\n",
       "1045                                     Barry Marshall\n",
       "1046                             Elizabeth H. Blackburn\n",
       "1047                                   Brian P. Schmidt\n",
       "1048                              Carlos Saavedra Lamas\n",
       "1049                                   Bernardo Houssay\n",
       "1050                               Luis Federico Leloir\n",
       "1051                              Adolfo Pérez Esquivel\n",
       "Name: name, Length: 1052, dtype: object"
      ]
     },
     "execution_count": 23,
     "metadata": {},
     "output_type": "execute_result"
    }
   ],
   "source": [
    "import pandas as pd\n",
    "import numpy as np\n",
    "df = pd.read_json('Nobel_Winners.json')\n",
    "#df.info()\n",
    "#df.describe(include=['object'])\n",
    "#df = df.set_index('name')\n",
    "#df.head()\n",
    "#df.born_in.describe()\n",
    "#set(df.born_in.apply(type))\n",
    "\n",
    "####born_in clean####\n",
    "df.born_in.replace('',np.nan,inplace=True)\n",
    "df.born_in\n",
    "df.born_in.describe()\n",
    "\n",
    "####name clean####\n",
    "df.name = df.name.str.replace('*','')\n",
    "df.name = df.name.str.strip()\n",
    "df.name"
   ]
  },
  {
   "cell_type": "code",
   "execution_count": null,
   "metadata": {
    "collapsed": true
   },
   "outputs": [],
   "source": []
  }
 ],
 "metadata": {
  "celltoolbar": "Edit Metadata",
  "kernelspec": {
   "display_name": "Python 3",
   "language": "python",
   "name": "python3"
  },
  "language_info": {
   "codemirror_mode": {
    "name": "ipython",
    "version": 3
   },
   "file_extension": ".py",
   "mimetype": "text/x-python",
   "name": "python",
   "nbconvert_exporter": "python",
   "pygments_lexer": "ipython3",
   "version": "3.6.1"
  }
 },
 "nbformat": 4,
 "nbformat_minor": 2
}
